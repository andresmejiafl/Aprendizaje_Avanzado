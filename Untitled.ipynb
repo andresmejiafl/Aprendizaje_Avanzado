{
 "cells": [
  {
   "cell_type": "code",
   "execution_count": 1,
   "id": "2c1264d4",
   "metadata": {},
   "outputs": [],
   "source": [
    "import random \n",
    "import datetime"
   ]
  },
  {
   "cell_type": "code",
   "execution_count": 13,
   "id": "20649786",
   "metadata": {},
   "outputs": [],
   "source": [
    "geneSet = \" aeiou\"  # Conjunto de genes\n",
    "target = \"eoeo oaoa\" #Objetivo"
   ]
  },
  {
   "cell_type": "code",
   "execution_count": 14,
   "id": "8ecf2f1f",
   "metadata": {},
   "outputs": [],
   "source": [
    "#  Se crea la funcion padre\n",
    "def generateParent(length): # La funcion toma como parametro la longitud de la palabra objetivo\n",
    "    genes = [] # Se crea una lista vacia para el almacenamiento de los genes\n",
    "    while len(genes) < length:  # Se ejecutan las operaciones mientras la longitud de la lista creada anteriormeente\n",
    "        # sea menor a la longitud de la palabra objetivo\n",
    "        sampleSize = min(length - len(genes), len(geneSet)) # Calcula el tamaño del muestreo\n",
    "        # esta depende de la longitud dada a la funcion, la longitud de los genes usados,\n",
    "        # y la longitud del conjunto de genes, este valor cambiara en cada iteracion\n",
    "        genes.extend(random.sample(geneSet, sampleSize)) # como parametros selecciona una cantidad\n",
    "        # de genes del conjunto de genes creados, la cantidad de genes dependera\n",
    "        # del tamaño de muestreo, estos valores son concatenados (agregados) a la lista de genes usados\n",
    "    return ''.join(genes) # Se retornan los elementos que se encuentran dentro de la lista genes y\n",
    "    # son combinados en una cadena de caracteres\n",
    "    \n",
    "def getFitness(guess):\n",
    "    return sum(1 for expected, actual in zip(target, guess)\n",
    "               if expected == actual)\n",
    "    # La funcion retorna la suma de la cantidad de elementos que se encuentran en dos listas a la vez\n",
    "    # la condicion zip me permite iterar sobre dos listas de manera simultanea\n",
    "    # lo que hace es evaluar el contenido de las dos listas hasta que el valor esperado sea igual valor actual\n",
    "\n",
    "def display(parent, time):\n",
    "    timeDiff = datetime.datetime.now() - time # Calcula el tiempo que le atomado al codigo ejecutarse\n",
    "    fitness = getFitness(parent) # Evalua en la funcion fittnes la prediccion\n",
    "    print(\"{0}\\t{1}\\t{2}\".format(parent, fitness, str(timeDiff))) # Imprime la prediccion, el resultado de\n",
    "    # fitness y el tiempo que lle ha tomado realizar el proceso\n",
    "\n",
    "def mutate(parent):\n",
    "    index = random.randrange(0, len(parent)) # Se determina un índice de manera aleatoria en un rango\n",
    "    # que va desde 0todos.van.a.ganar.esta.materia.guiño.guiño hasta la longitud total del padre que es el parametro que recibe la funcion\n",
    "    childGenes = list(parent) # Convierte la información almacenada en padre en una lista\n",
    "    newGene, alternate = random.sample(geneSet, 2)\n",
    "    childGenes[index] = alternate \\\n",
    "        if newGene == childGenes[index] \\\n",
    "        else newGene\n",
    "    \n",
    "    '''\n",
    "    if newGene == childGenes[index]:\n",
    "        childGenes[index] = alternate\n",
    "    else:\n",
    "        childGenes[index] = newGene\n",
    "    '''\n",
    "        \n",
    "    # Se igualan los genes hijos en la posicion indice al alternado\n",
    "    # Evalua si el nuevo gen es gual al gen hijo en esa posicion\n",
    "    # De lo contrario continua con el valor el gen\n",
    "    return ''.join(childGenes) # Se retornan los elementos que se encuentran dentro de la lista genes\n",
    "    #  hijos y son combinados en una cadena de caracteres separada por comas"
   ]
  },
  {
   "cell_type": "code",
   "execution_count": 15,
   "id": "a62c67ae",
   "metadata": {},
   "outputs": [
    {
     "name": "stdout",
     "output_type": "stream",
     "text": [
      "flag:u oeaiau \n",
      "u oeaiau \t1\t0:00:00\n",
      "u oeaiaua\t2\t0:00:00\n",
      "u oe iaua\t3\t0:00:00\n",
      "uooe iaua\t4\t0:00:00\n",
      "uooe oaua\t5\t0:00:00\n",
      "uoee oaua\t6\t0:00:00\n",
      "uoee oaoa\t7\t0:00:00\n",
      "uoeo oaoa\t8\t0:00:00\n",
      "eoeo oaoa\t9\t0:00:00.000999\n",
      "Total de generaciones:  67\n"
     ]
    }
   ],
   "source": [
    "random.seed(42) # Crea la semilla para garantizar que cada vez que se ejecute la funcion aleatorioa\n",
    "# realmente sea aleatoria\n",
    "startTime = datetime.datetime.now() # Inicia el conteo de tiempo de ejecucion del proceso\n",
    "bestParent = generateParent(len(target)) # Crea el tamaño del mejor padre que finalmente tendra\n",
    "print(\"flag:\" + bestParent)\n",
    "# la misma longitud en caracteres que el objetivo\n",
    "bestFitness = getFitness(bestParent)\n",
    "display(bestParent, startTime)\n",
    "\n",
    "# Evaluar:\n",
    "count = 0\n",
    "\n",
    "while True:\n",
    "    count += 1\n",
    "    #print(count)\n",
    "    child = mutate(bestParent) # Indica que los genes hijos van a mutar con referencia al padre\n",
    "    childFitness = getFitness(child) # Aplica el fitness alos genes hijos\n",
    "    if bestFitness >= childFitness:        # Si el valor del fitness deseado es mayor a el de los hijos que continue operando\n",
    "        continue\n",
    "    display(child, startTime) # Muestra los genes hijos\n",
    "    if childFitness == len(target): # Si el fitness de los hijos es mayor o igual al deseado que termine\n",
    "        # Esta es la condicion que determina que mi operacion a terminado, el codigo va a ejecutarse\n",
    "        # evaluando si los genes hijos han mutado a la condicion deseada\n",
    "        break\n",
    "    bestFitness = childFitness # Finalmente el mejor resultado va a ser igual al fitness del gen hijo final\n",
    "    bestParent = child # Y el mejor padre sera eje hijo que produjo el mejor resultado en fitness\n",
    "    \n",
    "print('Total de generaciones: ', count)"
   ]
  },
  {
   "cell_type": "code",
   "execution_count": null,
   "id": "42d262ec",
   "metadata": {},
   "outputs": [],
   "source": []
  },
  {
   "cell_type": "code",
   "execution_count": null,
   "id": "5ff1c5d6",
   "metadata": {},
   "outputs": [],
   "source": []
  }
 ],
 "metadata": {
  "kernelspec": {
   "display_name": "env_maestria",
   "language": "python",
   "name": "env_maestria"
  },
  "language_info": {
   "codemirror_mode": {
    "name": "ipython",
    "version": 3
   },
   "file_extension": ".py",
   "mimetype": "text/x-python",
   "name": "python",
   "nbconvert_exporter": "python",
   "pygments_lexer": "ipython3",
   "version": "3.8.10"
  }
 },
 "nbformat": 4,
 "nbformat_minor": 5
}
